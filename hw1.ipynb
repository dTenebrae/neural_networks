{
 "cells": [
  {
   "cell_type": "code",
   "execution_count": 1,
   "id": "c5d7f5f5",
   "metadata": {},
   "outputs": [],
   "source": [
    "import numpy as np\n",
    "import pandas as pd\n",
    "import matplotlib.pyplot as plt\n",
    "import seaborn as sns\n",
    "import warnings\n",
    "\n",
    "from sklearn.datasets import load_iris\n",
    "from sklearn.model_selection import train_test_split\n",
    "\n",
    "warnings.simplefilter(\"ignore\")\n",
    "\n",
    "%matplotlib inline"
   ]
  },
  {
   "cell_type": "code",
   "execution_count": 2,
   "id": "5ff0046f",
   "metadata": {},
   "outputs": [],
   "source": [
    "class Model:\n",
    "    def __init__(self):\n",
    "        self.layers = []\n",
    "        self.input_layer = None\n",
    "        self.loss = None\n",
    "\n",
    "    def add(self, layer):\n",
    "        self.layers.append(layer)\n",
    "\n",
    "    def set(self, loss):\n",
    "        self.loss = loss\n",
    "\n",
    "    def fit(self, X, y, epochs=1, learning_rate=0.01, print_every=1):\n",
    "        \"\"\"\n",
    "        Тренируем нашу сеть на выборке Х, y\n",
    "        :param epochs: Количество эпох\n",
    "        :param print_every: Как часто печатаем лог\n",
    "        :param learning_rate - шаг коррекции весов\n",
    "        :return:\n",
    "        \"\"\"\n",
    "        errors = []\n",
    "        for epoch in range(1, epochs + 1):\n",
    "            output = self.forward(X)\n",
    "\n",
    "            # Костыль для backpropagation\n",
    "            # TODO сделать через backward\n",
    "            error = y - output\n",
    "            errors.append(np.mean(np.abs(error)))\n",
    "            for layer in self.layers[::-1]:\n",
    "                # если текущий слой - активационный\n",
    "                if hasattr(layer, 'derive'):\n",
    "                    layer_delta = error * layer.derive(layer.output)\n",
    "                    error = layer_delta.dot(layer.prev.weights.T)\n",
    "                    # обновляем веса\n",
    "                    layer.prev.weights += layer.prev.input.T.dot(layer_delta) * learning_rate\n",
    "\n",
    "                else:\n",
    "                    continue\n",
    "\n",
    "            if epoch % print_every == 0:\n",
    "                print(f\"Loss on epoch {epoch}: {self.loss.calculate(output, y)}\")\n",
    "        return errors\n",
    "\n",
    "    def predict_proba(self, X):\n",
    "        return self.forward(X)\n",
    "\n",
    "    def predict(self, X):\n",
    "        return np.round(self.forward(X))\n",
    "\n",
    "    def finalize(self):\n",
    "        self.input_layer = LayerInput()\n",
    "        layer_count = len(self.layers)\n",
    "\n",
    "        # Проходимся по слоям и для каждого создаем атрибуты prev, next указывающие\n",
    "        # на предыдущий и следующий слой соответственно\n",
    "        for i in range(layer_count):\n",
    "            if i == 0:\n",
    "                # Если первый слой - то для него предыдущим будет входной\n",
    "                self.layers[i].prev = self.input_layer\n",
    "                self.layers[i].next = self.layers[i + 1]\n",
    "            elif i < layer_count - 1:\n",
    "                self.layers[i].prev = self.layers[i - 1]\n",
    "                self.layers[i].next = self.layers[i + 1]\n",
    "            else:\n",
    "                # Здесь замыкающим будет Loss функция\n",
    "                self.layers[i].prev = self.layers[i - 1]\n",
    "                self.layers[i].next = self.loss\n",
    "\n",
    "    def forward(self, X):\n",
    "        # TODO Проверка на существование input_layer\n",
    "        self.input_layer.forward(X)\n",
    "\n",
    "        for layer in self.layers:\n",
    "            layer.forward(layer.prev.output)\n",
    "\n",
    "        return layer.output"
   ]
  },
  {
   "cell_type": "code",
   "execution_count": 3,
   "id": "5b2bb735",
   "metadata": {},
   "outputs": [],
   "source": [
    "class LayerInput:\n",
    "    \"\"\"\n",
    "    Dummy класс для создания единообразия с прочими слоями. Содержит входные значения\n",
    "    \"\"\"\n",
    "\n",
    "    def __init__(self):\n",
    "        self.output = None\n",
    "\n",
    "    def forward(self, inputs):\n",
    "        self.output = inputs"
   ]
  },
  {
   "cell_type": "code",
   "execution_count": 4,
   "id": "1759c61f",
   "metadata": {},
   "outputs": [],
   "source": [
    "class LayerDense:\n",
    "    \"\"\"\n",
    "    Класс полносвязанной слоя. В init'e инициализируем веса рандомно в нормальном\n",
    "    распределении со стандартным отклонением sigma. Bias инициализируем нулями\n",
    "    \"\"\"\n",
    "\n",
    "    def __init__(self, n_inputs, n_neurons, sigma=0.1):\n",
    "        self.weights = sigma * np.random.randn(n_inputs, n_neurons)\n",
    "        # self.biases = np.zeros((1, n_neurons))\n",
    "        self.output = None\n",
    "        self.input = None\n",
    "\n",
    "    def forward(self, inputs):\n",
    "        \"\"\"\n",
    "        Шаг прямого распространения - скалярно перемножаем веса на входные значения плюс смещение.\n",
    "        \"\"\"\n",
    "        self.input = inputs\n",
    "        self.output = np.dot(inputs, self.weights) #+ self.biases"
   ]
  },
  {
   "cell_type": "code",
   "execution_count": 5,
   "id": "885a601b",
   "metadata": {},
   "outputs": [],
   "source": [
    "class ActivationReLU:\n",
    "    \"\"\"\n",
    "    Функция активации ReLU. Выглядит как f(x) = max(0, x)\n",
    "    \"\"\"\n",
    "\n",
    "    def __init__(self):\n",
    "        self.output = None\n",
    "\n",
    "    def forward(self, inputs):\n",
    "        self.output = np.maximum(0, inputs)\n",
    "\n",
    "    @staticmethod\n",
    "    def derive(inputs):\n",
    "        \"\"\"\n",
    "        \"Производная\" функции ReLU.\n",
    "        \"\"\"\n",
    "        return np.where(inputs > 0, 1, 0)"
   ]
  },
  {
   "cell_type": "code",
   "execution_count": 6,
   "id": "f08addef",
   "metadata": {},
   "outputs": [],
   "source": [
    "class ActivationSigmoid:\n",
    "    \"\"\"\n",
    "    Функция активации Sigmoid. Выглядит как f(x) = 1 / (1 + exp(-x))\n",
    "    \"\"\"\n",
    "\n",
    "    def __init__(self):\n",
    "        self.output = None\n",
    "\n",
    "    def forward(self, inputs):\n",
    "        self.output = 1 / (1 + np.exp(-inputs))\n",
    "\n",
    "    @staticmethod\n",
    "    def derive(inputs):\n",
    "        \"\"\"\n",
    "        Производная Sigmoid\n",
    "        \"\"\"\n",
    "        return inputs * (1 - inputs)"
   ]
  },
  {
   "cell_type": "code",
   "execution_count": 7,
   "id": "7fc64966",
   "metadata": {},
   "outputs": [],
   "source": [
    "class LossMeanSquaredError:\n",
    "    def calculate(self, output, y):\n",
    "        sample_losses = self.forward(output, y)\n",
    "        return np.mean(sample_losses)\n",
    "\n",
    "    @staticmethod\n",
    "    def forward(y_pred, y_true):\n",
    "        sample_losses = np.mean((y_true - y_pred) ** 2, axis=-1)\n",
    "        return sample_losses"
   ]
  },
  {
   "cell_type": "code",
   "execution_count": 8,
   "id": "49fc37ea",
   "metadata": {},
   "outputs": [],
   "source": [
    "def to_one_hot(input_y):\n",
    "    n_col = np.amax(input_y) + 1\n",
    "    binarized = np.zeros((len(input_y), n_col))\n",
    "    for i in range(len(input_y)):\n",
    "        binarized[i, input_y[i]] = 1.\n",
    "    return binarized\n",
    "\n",
    "\n",
    "def normalize(X, axis=-1, order=2):\n",
    "    l2 = np.atleast_1d(np.linalg.norm(X, order, axis))\n",
    "    l2[l2 == 0] = 1\n",
    "    return X / np.expand_dims(l2, axis)"
   ]
  },
  {
   "cell_type": "code",
   "execution_count": 9,
   "id": "9826bf63",
   "metadata": {},
   "outputs": [],
   "source": [
    "iris = load_iris()\n",
    "iris_df = pd.DataFrame(iris.data, columns=iris.feature_names)\n",
    "target_df = iris.target"
   ]
  },
  {
   "cell_type": "code",
   "execution_count": 10,
   "id": "cadcd3af",
   "metadata": {},
   "outputs": [],
   "source": [
    "x = normalize(iris_df.values)\n",
    "y = to_one_hot(target_df.flatten())\n",
    "X_train, X_test, y_train, y_test = train_test_split(x, y, test_size=0.33)"
   ]
  },
  {
   "cell_type": "code",
   "execution_count": 11,
   "id": "b33cd4e1",
   "metadata": {},
   "outputs": [
    {
     "name": "stdout",
     "output_type": "stream",
     "text": [
      "Loss on epoch 25000: 0.013260664106547524\n",
      "Loss on epoch 25000: 0.013548583994203656\n",
      "Loss on epoch 25000: 0.012563725605526939\n",
      "Loss on epoch 25000: 0.013430656309074982\n",
      "Loss on epoch 25000: 0.013335438506993404\n",
      "Loss on epoch 25000: 0.013203681668713487\n",
      "Loss on epoch 25000: 0.013063958277622054\n",
      "Loss on epoch 25000: 0.013037753311579683\n",
      "Loss on epoch 25000: 0.01342205234821403\n",
      "Loss on epoch 25000: 0.01319113222322532\n"
     ]
    }
   ],
   "source": [
    "# TODO сделать функцию обнуления весов\n",
    "batch_errors = []\n",
    "for _ in range(10):\n",
    "    nn_model = Model()\n",
    "    nn_model.add(LayerDense(4, 5))\n",
    "    nn_model.add(ActivationSigmoid())\n",
    "    nn_model.add(LayerDense(5, 4))\n",
    "    nn_model.add(ActivationSigmoid())\n",
    "    nn_model.add(LayerDense(4, 3))\n",
    "    nn_model.add(ActivationSigmoid())\n",
    "    nn_model.set(\n",
    "        loss=LossMeanSquaredError()\n",
    "    )\n",
    "    nn_model.finalize()\n",
    "\n",
    "    errors = nn_model.fit(X_train, y_train, learning_rate=0.01, epochs=25000, print_every=25000)\n",
    "    batch_errors.append(errors)"
   ]
  },
  {
   "cell_type": "code",
   "execution_count": 12,
   "id": "b36dea31",
   "metadata": {},
   "outputs": [],
   "source": [
    "colors = [\n",
    "    \"b\",\n",
    "    \"g\",\n",
    "    \"r\",\n",
    "    \"c\",\n",
    "    \"m\",\n",
    "    \"y\",\n",
    "    \"k\",\n",
    "    \"orange\",\n",
    "    \"pink\",\n",
    "    \"brown\"\n",
    "]"
   ]
  },
  {
   "cell_type": "code",
   "execution_count": 13,
   "id": "835f5593",
   "metadata": {},
   "outputs": [
    {
     "data": {
      "image/png": "[encoded data removed]",
      "text/plain": [
       "<Figure size 1152x360 with 1 Axes>"
      ]
     },
     "metadata": {
      "needs_background": "light"
     },
     "output_type": "display_data"
    },
    {
     "name": "stdout",
     "output_type": "stream",
     "text": [
      "Аккуратность нейронной сети 96.908%\n"
     ]
    }
   ],
   "source": [
    "plt.figure(figsize = (16,5))\n",
    "for i, err in enumerate(batch_errors):\n",
    "    plt.plot(err, color=colors[i])\n",
    "    \n",
    "\n",
    "plt.xlabel('Обучение')\n",
    "plt.ylabel('Ошибка')\n",
    "plt.show()\n",
    "\n",
    "print(f\"Аккуратность нейронной сети {(1 - errors[-1]) * 100:.3f}%\")"
   ]
  },
  {
   "cell_type": "code",
   "execution_count": 14,
   "id": "f9a5be1e",
   "metadata": {},
   "outputs": [
    {
     "name": "stdout",
     "output_type": "stream",
     "text": [
      "Аккуратность нейронной сети на тесте: 98.667%\n"
     ]
    }
   ],
   "source": [
    "y_pred = nn_model.predict(X_test)\n",
    "acc = (1 - np.mean(np.abs((y_test - y_pred)))) * 100\n",
    "print(f\"Аккуратность нейронной сети на тесте: {acc:.3f}%\")"
   ]
  }
 ],
 "metadata": {
  "kernelspec": {
   "display_name": "Python 3 (ipykernel)",
   "language": "python",
   "name": "python3"
  },
  "language_info": {
   "codemirror_mode": {
    "name": "ipython",
    "version": 3
   },
   "file_extension": ".py",
   "mimetype": "text/x-python",
   "name": "python",
   "nbconvert_exporter": "python",
   "pygments_lexer": "ipython3",
   "version": "3.9.6"
  },
  "varInspector": {
   "cols": {
    "lenName": 16,
    "lenType": 16,
    "lenVar": 40
   },
   "kernels_config": {
    "python": {
     "delete_cmd_postfix": "",
     "delete_cmd_prefix": "del ",
     "library": "var_list.py",
     "varRefreshCmd": "print(var_dic_list())"
    },
    "r": {
     "delete_cmd_postfix": ") ",
     "delete_cmd_prefix": "rm(",
     "library": "var_list.r",
     "varRefreshCmd": "cat(var_dic_list()) "
    }
   },
   "types_to_exclude": [
    "module",
    "function",
    "builtin_function_or_method",
    "instance",
    "_Feature"
   ],
   "window_display": false
  }
 },
 "nbformat": 4,
 "nbformat_minor": 5
}
