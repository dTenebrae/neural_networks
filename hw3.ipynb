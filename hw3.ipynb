{
  "nbformat": 4,
  "nbformat_minor": 0,
  "metadata": {
    "colab": {
      "name": "hw3.ipynb",
      "provenance": [],
      "collapsed_sections": [],
      "authorship_tag": "ABX9TyMhijpmKyPLiDim/+D7AWRz",
      "include_colab_link": true
    },
    "kernelspec": {
      "name": "python3",
      "display_name": "Python 3"
    },
    "language_info": {
      "name": "python"
    },
    "accelerator": "GPU"
  },
  "cells": [
    {
      "cell_type": "markdown",
      "metadata": {
        "id": "view-in-github",
        "colab_type": "text"
      },
      "source": [
        "<a href=\"https://colab.research.google.com/github/dTenebrae/neural_networks/blob/hw3/hw3.ipynb\" target=\"_parent\"><img src=\"https://colab.research.google.com/assets/colab-badge.svg\" alt=\"Open In Colab\"/></a>"
      ]
    },
    {
      "cell_type": "markdown",
      "metadata": {
        "id": "Ox4f1jS2o16_"
      },
      "source": [
        "## Практическое задание\n",
        "\n",
        "  1. Постройте нейронную сеть(берем простую линейную сеть, которую разбирали на уроке: меняем число слоев, число нейронов , типы активации, тип оптимизатора)  на датасет from sklearn.datasets import load_boston. \n",
        "  2. Измените функцию потерь и метрику для этой задачи. Постройте 10-15 вариантов и сведите результаты их работы в таблицу  Опишите, какого результата вы добились от нейросети? Что помогло вам улучшить ее точность?\n",
        "\n",
        "  3. Поработайте с документацией TensorFlow 2. Найти 2-3 полезные команды TensorFlow, не разобранные на уроке (полезные для Вас)."
      ]
    },
    {
      "cell_type": "code",
      "metadata": {
        "id": "EF4CNccFw5tl"
      },
      "source": [
        "import numpy as np\n",
        "import pandas as pd\n",
        "\n",
        "import matplotlib.pyplot as plt\n",
        "%matplotlib inline\n",
        "\n",
        "from IPython.display import clear_output\n",
        "\n",
        "import tensorflow as tf\n",
        "from  tensorflow.keras import Model\n",
        "from tensorflow.keras.utils import Progbar\n",
        "from tensorflow.keras.layers import Dense, Input\n",
        "from tensorflow.keras.utils import normalize\n",
        "from tensorflow.keras.optimizers import SGD, RMSprop, Nadam, Adam, Adagrad\n",
        "\n",
        "from sklearn.metrics import r2_score"
      ],
      "execution_count": 1,
      "outputs": []
    },
    {
      "cell_type": "markdown",
      "metadata": {
        "id": "ewh88-eFnXti"
      },
      "source": [
        "___"
      ]
    },
    {
      "cell_type": "code",
      "metadata": {
        "id": "_HbL4X8weME8"
      },
      "source": [
        "def create_model(input_shape, level, neuron):\n",
        "    inputs = Input(shape=INPUT_SHAPE, name=\"input_layer\")\n",
        "    x = Dense(neuron, name='dense_1')(inputs)\n",
        "    for i in range(level):\n",
        "        x = Dense(neuron, name=f'dense_{i + 2}')(x)\n",
        "        x = tf.nn.relu(x)\n",
        "\n",
        "    outputs = Dense(1, name='predictions')(x)\n",
        "    model = Model(inputs=inputs, outputs=outputs)\n",
        "    return model"
      ],
      "execution_count": 2,
      "outputs": []
    },
    {
      "cell_type": "code",
      "metadata": {
        "id": "Wd-TtuTLJNQb"
      },
      "source": [
        "def train_step(features, labels):\n",
        "    with tf.GradientTape() as tape:\n",
        "        # предскажем значения\n",
        "        predictions = model(features, training=True)\n",
        "        # найдем лосс между ними и истинными значениями\n",
        "        loss_value = loss(labels, predictions)\n",
        "    # вычислим градиент\n",
        "    gradients = tape.gradient(loss_value, model.trainable_variables)\n",
        "    # прогоним оптимизатором по весам (backpropagation)\n",
        "    optimizer.apply_gradients(zip(gradients, model.trainable_variables))\n",
        "    return loss_value, metric(labels, predictions)\n",
        "\n",
        "def test_step(features, labels):\n",
        "    predictions = model(features, training=False)\n",
        "    loss_value = loss(labels, predictions)\n",
        "    return loss_value, metric(labels, predictions)"
      ],
      "execution_count": 3,
      "outputs": []
    },
    {
      "cell_type": "code",
      "metadata": {
        "id": "SoxXwcUlq48o"
      },
      "source": [
        "def input_fn_train(X, y, batch_size=32, repeat=1, shuffle=False):\n",
        "    # Returns tf.data.Dataset of (x, y) tuple where y represents label's class\n",
        "    ds = tf.data.Dataset.from_tensor_slices((X, y))\n",
        "    if shuffle:\n",
        "        ds.shuffle(100)\n",
        "    ds = ds.batch(batch_size).repeat(repeat)\n",
        "    return ds\n",
        "\n",
        "def input_fn_eval(X, y, batch=32):\n",
        "    # Returns tf.data.Dataset of (x, y) tuple where y represents label's class\n",
        "    return tf.data.Dataset.from_tensor_slices((X, y)).batch(batch)"
      ],
      "execution_count": 4,
      "outputs": []
    },
    {
      "cell_type": "markdown",
      "metadata": {
        "id": "87zkQEKXna8v"
      },
      "source": [
        "___"
      ]
    },
    {
      "cell_type": "code",
      "metadata": {
        "id": "-BAb7EN7kS83"
      },
      "source": [
        "# Разобьем данные на трейн и тест. По умолчанию на тест иде 20% выборки\n",
        "(X_train, y_train), (X_test, y_test) = tf.keras.datasets.boston_housing.load_data()\n",
        "clear_output()"
      ],
      "execution_count": 5,
      "outputs": []
    },
    {
      "cell_type": "code",
      "metadata": {
        "id": "YOG5iPKN5r23"
      },
      "source": [
        "# для избежания разлета градиента нормализуем данные\n",
        "X_train, X_test = normalize(X_train), normalize(X_test)\n",
        "# Запишем количество фичей в константу. Потребуется для входного слоя сети\n",
        "INPUT_SHAPE = X_train.shape[1]"
      ],
      "execution_count": 6,
      "outputs": []
    },
    {
      "cell_type": "code",
      "metadata": {
        "id": "LSuAB7qZ0VSU"
      },
      "source": [
        "# Упакуем данные в tf dataset\n",
        "train_ds = input_fn_train(X_train, y_train, shuffle=True)\n",
        "test_ds = input_fn_eval(X_test, y_test)"
      ],
      "execution_count": 7,
      "outputs": []
    },
    {
      "cell_type": "code",
      "metadata": {
        "id": "0jr89eKLbOTj"
      },
      "source": [
        "# Выберем лосс, метрику\n",
        "loss = tf.keras.losses.MeanSquaredError()\n",
        "metric = tf.keras.metrics.MeanSquaredError()"
      ],
      "execution_count": 8,
      "outputs": []
    },
    {
      "cell_type": "code",
      "metadata": {
        "id": "6wNLHbvRjy1l"
      },
      "source": [
        "# Сделаем некое подобие gridsearch'a\n",
        "param = {\n",
        "    'levels': [2, 5, 10],\n",
        "    'n_neurons': [32, 64, 128],\n",
        "    'optimizer': [RMSprop, Nadam, Adam],\n",
        "}\n",
        "# получилось 27 вариантов сети\n",
        "combined_params = np.array(np.meshgrid(param['levels'], \n",
        "                                       param['n_neurons'], \n",
        "                                       param['optimizer'])).T.reshape(-1,3)"
      ],
      "execution_count": 9,
      "outputs": []
    },
    {
      "cell_type": "code",
      "metadata": {
        "colab": {
          "base_uri": "https://localhost:8080/"
        },
        "id": "7bjBya8VJNqj",
        "outputId": "48cdaed7-80c9-4ae9-a864-84f1dca41305"
      },
      "source": [
        "result = []\n",
        "EPOCHS = 21\n",
        "for par in combined_params:\n",
        "    model = create_model(INPUT_SHAPE, par[0], par[1])\n",
        "    optimizer = par[2]()\n",
        "\n",
        "    train_loss = []\n",
        "    test_loss = []\n",
        "    train_acc = []\n",
        "    test_acc = []\n",
        "\n",
        "    for epoch in range(EPOCHS):\n",
        "        print(\"\\nepoch {}/{}\".format(epoch + 1, EPOCHS))\n",
        "        pb_train = Progbar(len(train_ds), stateful_metrics=['MSE loss', 'MSE metric'])\n",
        "        pb_test = Progbar(len(test_ds), stateful_metrics=['MSE loss', 'MSE metric'])\n",
        "\n",
        "        metric.reset_state()\n",
        "        # проход по всем батчам трейновой выборки\n",
        "        for train_x, train_y in train_ds:\n",
        "            train_result = train_step(train_x, train_y)\n",
        "            values=[('MSE loss',train_result[0].numpy()), ('MSE metric',train_result[0].numpy())]\n",
        "            pb_train.add(1, values=values)\n",
        "        \n",
        "        # логи\n",
        "        train_loss.append(train_result[0].numpy())\n",
        "        train_acc.append(train_result[1].numpy())\n",
        "\n",
        "        # проход по всем батчам тестовой выборки\n",
        "        for test_x, test_y in test_ds:\n",
        "            test_result = test_step(test_x, test_y)\n",
        "            values=[('MSE loss',test_result[0].numpy()), ('MSE metric',test_result[0].numpy())]\n",
        "            pb_test.add(1, values=values)\n",
        "        \n",
        "        # логи\n",
        "        test_loss.append(test_result[0].numpy())\n",
        "        test_acc.append(test_result[1].numpy())\n",
        "\n",
        "    y_test_pred = model.predict(X_test).flatten()\n",
        "    r2 = r2_score(y_test, y_test_pred)\n",
        "\n",
        "    result.append((par, train_loss, test_loss, train_acc, test_acc, r2))\n",
        "    clear_output()\n",
        "    print(f\"{optimizer.get_config()['name']} || levels: {par[0]} || neurons: {par[1]} || r2 score: {r2:.4f}\")"
      ],
      "execution_count": 10,
      "outputs": [
        {
          "output_type": "stream",
          "name": "stdout",
          "text": [
            "Adam || levels: 10 || neurons: 128 || r2 score: 0.2302\n"
          ]
        }
      ]
    },
    {
      "cell_type": "code",
      "metadata": {
        "colab": {
          "base_uri": "https://localhost:8080/"
        },
        "id": "u3fLjMk65FPm",
        "outputId": "9b5391b4-0389-4586-dc08-93ebd73eeaeb"
      },
      "source": [
        "# Выведем сводную таблицу скоров r2 для всех моделей\n",
        "print(f'Epochs: {EPOCHS}')\n",
        "for i in range(3):\n",
        "    print(46 * '=')\n",
        "    print(f\"{result[i * 9][0][2]().get_config()['name']} {25 * ' '} r2 score\")\n",
        "    print(46 * '=')\n",
        "    print(pd.DataFrame(np.array([res[5] for res in result[i * 9: (i + 1) * 9]]).reshape(3, 3), \n",
        "                       index=['2 layers', '5 layers', '10 layers'], \n",
        "                       columns=['32 neurons', '64 neurons', '128 neurons']))"
      ],
      "execution_count": 11,
      "outputs": [
        {
          "output_type": "stream",
          "name": "stdout",
          "text": [
            "Epochs: 21\n",
            "==============================================\n",
            "RMSprop                           r2 score\n",
            "==============================================\n",
            "           32 neurons  64 neurons  128 neurons\n",
            "2 layers     0.207889    0.298287     0.288308\n",
            "5 layers     0.277169    0.247417     0.290802\n",
            "10 layers    0.245475    0.218701    -0.330525\n",
            "==============================================\n",
            "Nadam                           r2 score\n",
            "==============================================\n",
            "           32 neurons  64 neurons  128 neurons\n",
            "2 layers     0.226374    0.301386     0.322900\n",
            "5 layers     0.294550    0.312942     0.277879\n",
            "10 layers    0.287069    0.251356     0.187750\n",
            "==============================================\n",
            "Adam                           r2 score\n",
            "==============================================\n",
            "           32 neurons  64 neurons  128 neurons\n",
            "2 layers     0.187417    0.275062     0.316232\n",
            "5 layers     0.272311    0.334920     0.342262\n",
            "10 layers    0.327367    0.328340     0.230151\n"
          ]
        }
      ]
    },
    {
      "cell_type": "code",
      "metadata": {
        "colab": {
          "base_uri": "https://localhost:8080/",
          "height": 513
        },
        "id": "CJkg9ng6kJz0",
        "outputId": "64921698-40f0-4599-d699-4924922124ed"
      },
      "source": [
        "# Берем лучшую по r2 модель и рисуем ее обучение\n",
        "best_r2 = sorted(result, key=lambda x: x[5], reverse=True)[0]\n",
        "plt.figure(figsize=(18, 8))\n",
        "\n",
        "plt.subplot(1, 2, 1)\n",
        "plt.plot(np.arange(0, EPOCHS), best_r2[1], color='blue', label='train loss')\n",
        "plt.plot(np.arange(0, EPOCHS), best_r2[2], color='orange', label='test loss')\n",
        "plt.xlabel('epoch')\n",
        "plt.ylabel('loss')\n",
        "plt.grid()\n",
        "plt.title(f\"{best_r2[0][2]().get_config()['name']} {best_r2[0][0]} layers {best_r2[0][1]} neurons. MSE loss per epoch\")\n",
        "plt.legend(loc='best')\n",
        "\n",
        "plt.subplot(1, 2, 2)\n",
        "plt.plot(np.arange(0, EPOCHS), best_r2[3], color='blue', ls='dashed', label='train metric')\n",
        "plt.plot(np.arange(0, EPOCHS), best_r2[4], color='orange', ls='dashed', label='test metric')\n",
        "plt.xlabel('epoch')\n",
        "plt.ylabel('metric')\n",
        "plt.grid()\n",
        "plt.title(f\"{best_r2[0][2]().get_config()['name']} {best_r2[0][0]} layers {best_r2[0][1]} neurons. MSE metric per epoch\")\n",
        "plt.legend(loc='best')\n",
        "\n",
        "plt.show()"
      ],
      "execution_count": 12,
      "outputs": [
        {
          "output_type": "display_data",
          "data": {
            "image/png": "[encoded data removed]",
            "text/plain": [
              "<Figure size 1296x576 with 2 Axes>"
            ]
          },
          "metadata": {
            "needs_background": "light"
          }
        }
      ]
    },
    {
      "cell_type": "code",
      "metadata": {
        "colab": {
          "base_uri": "https://localhost:8080/"
        },
        "id": "HiBtWAzTc9_d",
        "outputId": "30b5583a-a1c7-4832-fae1-c70fc0b29a4f"
      },
      "source": [
        "result = []\n",
        "EPOCHS = 101\n",
        "for par in combined_params:\n",
        "    model = create_model(INPUT_SHAPE, par[0], par[1])\n",
        "    optimizer = par[2]()\n",
        "\n",
        "    train_loss = []\n",
        "    test_loss = []\n",
        "    train_acc = []\n",
        "    test_acc = []\n",
        "\n",
        "    for epoch in range(EPOCHS):\n",
        "        print(\"\\nepoch {}/{}\".format(epoch + 1, EPOCHS))\n",
        "        pb_train = Progbar(len(train_ds), stateful_metrics=['MSE loss', 'MSE metric'])\n",
        "        pb_test = Progbar(len(test_ds), stateful_metrics=['MSE loss', 'MSE metric'])\n",
        "\n",
        "        metric.reset_state()\n",
        "        # проход по всем батчам трейновой выборки\n",
        "        for train_x, train_y in train_ds:\n",
        "            train_result = train_step(train_x, train_y)\n",
        "            values=[('MSE loss',train_result[0].numpy()), ('MSE metric',train_result[0].numpy())]\n",
        "            pb_train.add(1, values=values)\n",
        "        \n",
        "        # логи\n",
        "        train_loss.append(train_result[0].numpy())\n",
        "        train_acc.append(train_result[1].numpy())\n",
        "\n",
        "        # проход по всем батчам тестовой выборки\n",
        "        for test_x, test_y in test_ds:\n",
        "            test_result = test_step(test_x, test_y)\n",
        "            values=[('MSE loss',test_result[0].numpy()), ('MSE metric',test_result[0].numpy())]\n",
        "            pb_test.add(1, values=values)\n",
        "        \n",
        "        # логи\n",
        "        test_loss.append(test_result[0].numpy())\n",
        "        test_acc.append(test_result[1].numpy())\n",
        "    \n",
        "    y_test_pred = model.predict(X_test).flatten()\n",
        "    r2 = r2_score(y_test, y_test_pred)\n",
        "\n",
        "    result.append((par, train_loss, test_loss, train_acc, test_acc, r2))\n",
        "    clear_output()\n",
        "    print(f\"{optimizer.get_config()['name']} || levels: {par[0]} || neurons: {par[1]} || r2 score: {r2:.4f}\")"
      ],
      "execution_count": 13,
      "outputs": [
        {
          "output_type": "stream",
          "name": "stdout",
          "text": [
            "Adam || levels: 10 || neurons: 128 || r2 score: 0.5994\n"
          ]
        }
      ]
    },
    {
      "cell_type": "code",
      "metadata": {
        "colab": {
          "base_uri": "https://localhost:8080/"
        },
        "id": "4zp_QnuOdD-W",
        "outputId": "33c9544f-d996-4c9e-c43e-e4e4bb8d015e"
      },
      "source": [
        "# Выведем сводную таблицу скоров r2 для всех моделей\n",
        "print(f'Epochs: {EPOCHS}')\n",
        "for i in range(3):\n",
        "    print(46 * '=')\n",
        "    print(f\"{result[i * 9][0][2]().get_config()['name']} {25 * ' '} r2 score\")\n",
        "    print(46 * '=')\n",
        "    print(pd.DataFrame(np.array([res[5] for res in result[i * 9: (i + 1) * 9]]).reshape(3, 3), \n",
        "                       index=['2 layers', '5 layers', '10 layers'], \n",
        "                       columns=['32 neurons', '64 neurons', '128 neurons']))"
      ],
      "execution_count": 14,
      "outputs": [
        {
          "output_type": "stream",
          "name": "stdout",
          "text": [
            "Epochs: 101\n",
            "==============================================\n",
            "RMSprop                           r2 score\n",
            "==============================================\n",
            "           32 neurons  64 neurons  128 neurons\n",
            "2 layers     0.369696    0.500799     0.626136\n",
            "5 layers     0.544781    0.516277     0.549381\n",
            "10 layers    0.531415    0.587729     0.200126\n",
            "==============================================\n",
            "Nadam                           r2 score\n",
            "==============================================\n",
            "           32 neurons  64 neurons  128 neurons\n",
            "2 layers     0.387834    0.533507     0.654305\n",
            "5 layers     0.633906    0.625238     0.637362\n",
            "10 layers    0.625175    0.631134     0.648875\n",
            "==============================================\n",
            "Adam                           r2 score\n",
            "==============================================\n",
            "           32 neurons  64 neurons  128 neurons\n",
            "2 layers     0.369719    0.555829     0.652438\n",
            "5 layers     0.642007    0.606409     0.642854\n",
            "10 layers    0.624490    0.610688     0.599393\n"
          ]
        }
      ]
    },
    {
      "cell_type": "code",
      "metadata": {
        "colab": {
          "base_uri": "https://localhost:8080/",
          "height": 513
        },
        "id": "wajDqPBzdD-Y",
        "outputId": "6d35eeed-66f3-401c-c8fc-4d0a8b8b6236"
      },
      "source": [
        "# Берем лучшую по r2 модель и рисуем ее обучение\n",
        "best_r2 = sorted(result, key=lambda x: x[5], reverse=True)[0]\n",
        "plt.figure(figsize=(18, 8))\n",
        "\n",
        "plt.subplot(1, 2, 1)\n",
        "plt.plot(np.arange(0, EPOCHS), best_r2[1], color='blue', label='train loss')\n",
        "plt.plot(np.arange(0, EPOCHS), best_r2[2], color='orange', label='test loss')\n",
        "plt.xlabel('epoch')\n",
        "plt.ylabel('loss')\n",
        "plt.grid()\n",
        "plt.title(f\"{best_r2[0][2]().get_config()['name']} {best_r2[0][0]} layers {best_r2[0][1]} neurons. MSE loss per epoch\")\n",
        "plt.legend(loc='best')\n",
        "\n",
        "plt.subplot(1, 2, 2)\n",
        "plt.plot(np.arange(0, EPOCHS), best_r2[3], color='blue', ls='dashed', label='train metric')\n",
        "plt.plot(np.arange(0, EPOCHS), best_r2[4], color='orange', ls='dashed', label='test metric')\n",
        "plt.xlabel('epoch')\n",
        "plt.ylabel('metric')\n",
        "plt.grid()\n",
        "plt.title(f\"{best_r2[0][2]().get_config()['name']} {best_r2[0][0]} layers {best_r2[0][1]} neurons. MSE metric per epoch\")\n",
        "plt.legend(loc='best')\n",
        "\n",
        "plt.show()"
      ],
      "execution_count": 15,
      "outputs": [
        {
          "output_type": "display_data",
          "data": {
            "image/png": "[encoded data removed]",
            "text/plain": [
              "<Figure size 1296x576 with 2 Axes>"
            ]
          },
          "metadata": {
            "needs_background": "light"
          }
        }
      ]
    },
    {
      "cell_type": "markdown",
      "metadata": {
        "id": "KPP9CY3YvxPZ"
      },
      "source": [
        "**Выводы**  \n",
        "\n",
        "- Значительного буста в метрике можно добиться подходящим к задаче выбором оптимизатора\n",
        "- Архитектура сети играет важную роль, но с увеличением количества слоев, может потребоваться значительно большее количество эпох для обучения. Также не следует забывать про затухание градиента и выбор функции активации\n",
        "- Не всегда следует использовать нейронки. В простых задачах лучше может отработать алгоритм из классического ML"
      ]
    },
    {
      "cell_type": "code",
      "metadata": {
        "colab": {
          "base_uri": "https://localhost:8080/"
        },
        "id": "Ef3grQNLfjFC",
        "outputId": "e008042e-40d1-476d-f24c-4368d4038de3"
      },
      "source": [
        "# Простейший бейзлайн на линейной регрессии\n",
        "from sklearn.linear_model import LinearRegression\n",
        "regressor = LinearRegression()\n",
        "regressor.fit(X_train, y_train)\n",
        "r2_score(y_test, regressor.predict(X_test))"
      ],
      "execution_count": 17,
      "outputs": [
        {
          "output_type": "execute_result",
          "data": {
            "text/plain": [
              "0.7817795450774275"
            ]
          },
          "metadata": {},
          "execution_count": 17
        }
      ]
    }
  ]
}